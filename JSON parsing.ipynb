{
 "cells": [
  {
   "cell_type": "code",
   "execution_count": 12,
   "metadata": {
    "collapsed": false,
    "scrolled": true
   },
   "outputs": [
    {
     "name": "stdout",
     "output_type": "stream",
     "text": [
      "Populating the interactive namespace from numpy and matplotlib\n"
     ]
    }
   ],
   "source": [
    "import json\n",
    "import io \n",
    "import IPython.display\n",
    "import os \n",
    "import base64\n",
    "import numpy as np\n",
    "%pylab inline\n"
   ]
  },
  {
   "cell_type": "code",
   "execution_count": 13,
   "metadata": {
    "collapsed": false
   },
   "outputs": [
    {
     "name": "stdout",
     "output_type": "stream",
     "text": [
      "8\n",
      "https://s3.amazonaws.com/lakecharacter/Omniglot_letters/Drawcopy/handwritten40.png\n"
     ]
    }
   ],
   "source": [
    "fp = io.open('/Users/cocosci/Dropbox (MIT)/LETTERS_JBT/Final expereiment/GH_Data/11_11_16/Part7_Draw.json')\n",
    "d = json.load(fp)\n",
    "print len(d)\n",
    "dd = d[0]\n",
    "# print(dd. keys())\n",
    "print(dd['image'])\n",
    "img_shape = dd['image'] # source image\n",
    "jpeg_img = dd['jpeg'] # generated image\n",
    "with open('/Users/cocosci/Desktop/ray_jpeg_test.jpg', 'wb') as wf:\n",
    "    wf.write(jpeg_img)\n",
    "# img = base64.b64decode(jpeg_img)\n",
    "# # print(img)\n",
    "# np_img = np.fromstring(img, dtype=np.uint8)\n",
    "# np_img = np_img.reshape(img_shape)\n",
    "# print(np_img.shape)\n",
    "# imshow(np_img)\n",
    "\n",
    "#Ray added\n",
    "# print d\n",
    "# print len(d)\n",
    "# print(d[1])\n",
    "#print(d[0].keys())\n",
    "#print(d[0]['jpeg'])\n",
    "#IPython.display.display(IPython.display.Image(d[0]['jpeg']))\n"
   ]
  },
  {
   "cell_type": "code",
   "execution_count": 14,
   "metadata": {
    "collapsed": false
   },
   "outputs": [],
   "source": [
    "def getdata(f):\n",
    "    fp = io.open(f)\n",
    "    return json.load(fp)"
   ]
  },
  {
   "cell_type": "code",
   "execution_count": 15,
   "metadata": {
    "collapsed": false
   },
   "outputs": [],
   "source": [
    "t = d[2][u'strokes'][0]"
   ]
  },
  {
   "cell_type": "code",
   "execution_count": 16,
   "metadata": {
    "collapsed": false,
    "scrolled": false
   },
   "outputs": [
    {
     "name": "stdout",
     "output_type": "stream",
     "text": [
      "[{u'y': 306, u'x': 256, u't': u'2016-11-10T17:13:10.424Z'}, {u'y': 313, u'x': 257, u't': u'2016-11-10T17:13:10.47Z'}, {u'y': 321, u'x': 260, u't': u'2016-11-10T17:13:10.488Z'}, {u'y': 339, u'x': 264, u't': u'2016-11-10T17:13:10.503Z'}, {u'y': 358, u'x': 268, u't': u'2016-11-10T17:13:10.52Z'}, {u'y': 379, u'x': 272, u't': u'2016-11-10T17:13:10.537Z'}, {u'y': 397, u'x': 277, u't': u'2016-11-10T17:13:10.553Z'}, {u'y': 413, u'x': 282, u't': u'2016-11-10T17:13:10.571Z'}, {u'y': 427, u'x': 289, u't': u'2016-11-10T17:13:10.587Z'}, {u'y': 436, u'x': 301, u't': u'2016-11-10T17:13:10.605Z'}, {u'y': 440, u'x': 316, u't': u'2016-11-10T17:13:10.62Z'}, {u'y': 441, u'x': 338, u't': u'2016-11-10T17:13:10.636Z'}, {u'y': 427, u'x': 362, u't': u'2016-11-10T17:13:10.653Z'}, {u'y': 401, u'x': 390, u't': u'2016-11-10T17:13:10.669Z'}, {u'y': 372, u'x': 415, u't': u'2016-11-10T17:13:10.686Z'}, {u'y': 339, u'x': 435, u't': u'2016-11-10T17:13:10.703Z'}, {u'y': 307, u'x': 453, u't': u'2016-11-10T17:13:10.721Z'}, {u'y': 278, u'x': 466, u't': u'2016-11-10T17:13:10.736Z'}, {u'y': 247, u'x': 472, u't': u'2016-11-10T17:13:10.755Z'}, {u'y': 217, u'x': 474, u't': u'2016-11-10T17:13:10.77Z'}, {u'y': 191, u'x': 475, u't': u'2016-11-10T17:13:10.787Z'}, {u'y': 169, u'x': 475, u't': u'2016-11-10T17:13:10.803Z'}, {u'y': 154, u'x': 475, u't': u'2016-11-10T17:13:10.82Z'}, {u'y': 142, u'x': 474, u't': u'2016-11-10T17:13:10.836Z'}, {u'y': 133, u'x': 472, u't': u'2016-11-10T17:13:10.853Z'}, {u'y': 129, u'x': 471, u't': u'2016-11-10T17:13:10.883Z'}, {u'y': 129, u'x': 470, u't': u'2016-11-10T17:13:10.905Z'}, {u'y': 129, u'x': 470, u't': u'2016-11-10T17:13:10.912Z'}]\n",
      "[{u'y': 279, u'x': 235, u't': u'2016-11-10T17:13:11.718Z'}, {u'y': 262, u'x': 217, u't': u'2016-11-10T17:13:11.78Z'}, {u'y': 193, u'x': 192, u't': u'2016-11-10T17:13:11.811Z'}, {u'y': 177, u'x': 190, u't': u'2016-11-10T17:13:11.82Z'}, {u'y': 148, u'x': 190, u't': u'2016-11-10T17:13:11.837Z'}, {u'y': 121, u'x': 192, u't': u'2016-11-10T17:13:11.853Z'}, {u'y': 91, u'x': 201, u't': u'2016-11-10T17:13:11.869Z'}, {u'y': 60, u'x': 212, u't': u'2016-11-10T17:13:11.886Z'}, {u'y': 31, u'x': 223, u't': u'2016-11-10T17:13:11.903Z'}, {u'y': 4, u'x': 241, u't': u'2016-11-10T17:13:11.921Z'}, {u'y': -17, u'x': 261, u't': u'2016-11-10T17:13:11.937Z'}, {u'y': -34, u'x': 286, u't': u'2016-11-10T17:13:11.954Z'}, {u'y': -43, u'x': 312, u't': u'2016-11-10T17:13:11.969Z'}, {u'y': -44, u'x': 338, u't': u'2016-11-10T17:13:11.986Z'}, {u'y': -43, u'x': 363, u't': u'2016-11-10T17:13:12.003Z'}, {u'y': -31, u'x': 387, u't': u'2016-11-10T17:13:12.019Z'}, {u'y': -17, u'x': 411, u't': u'2016-11-10T17:13:12.036Z'}, {u'y': -1, u'x': 435, u't': u'2016-11-10T17:13:12.053Z'}, {u'y': 17, u'x': 465, u't': u'2016-11-10T17:13:12.071Z'}, {u'y': 37, u'x': 477, u't': u'2016-11-10T17:13:12.086Z'}, {u'y': 37, u'x': 477, u't': u'2016-11-10T17:13:12.094Z'}]\n",
      "[{u'y': 218, u'x': 479, u't': u'2016-11-10T17:13:12.298Z'}, {u'y': 224, u'x': 464, u't': u'2016-11-10T17:13:12.328Z'}, {u'y': 224, u'x': 464, u't': u'2016-11-10T17:13:12.337Z'}]\n",
      "[{u'y': 267, u'x': 261, u't': u'2016-11-10T17:13:15.163Z'}, {u'y': 268, u'x': 256, u't': u'2016-11-10T17:13:15.212Z'}, {u'y': 272, u'x': 256, u't': u'2016-11-10T17:13:15.222Z'}, {u'y': 288, u'x': 256, u't': u'2016-11-10T17:13:15.237Z'}, {u'y': 314, u'x': 253, u't': u'2016-11-10T17:13:15.257Z'}, {u'y': 329, u'x': 252, u't': u'2016-11-10T17:13:15.27Z'}, {u'y': 329, u'x': 252, u't': u'2016-11-10T17:13:15.271Z'}]\n"
     ]
    },
    {
     "data": {
      "image/png": "[encoded data removed]",
      "text/plain": [
       "<matplotlib.figure.Figure at 0x107d712d0>"
      ]
     },
     "metadata": {},
     "output_type": "display_data"
    }
   ],
   "source": [
    "def getx(p):\n",
    "    \n",
    "    return p[u'x']\n",
    "\n",
    "def gety(p):\n",
    "    return p[u'y']\n",
    "\n",
    "def plotstroke(onestroke,onecolor):\n",
    "    print onestroke\n",
    "    xs = map(getx,onestroke)\n",
    "    ys = map(gety,onestroke)\n",
    "    ## draw dots where the child's touched the screen up to now\n",
    "    ySizeOfImage = 500\n",
    "    xSizeOfImage = 500\n",
    "    plot(xs,ys, \n",
    "      lw = 3, color = onecolor)\n",
    "    axis('off')\n",
    "    yticks([])\n",
    "    xticks([])\n",
    "    xlim(0,xSizeOfImage)\n",
    "    ylim(0,ySizeOfImage)\n",
    "\n",
    "#ray\n",
    "def plotstroke_new(ax,onestroke,onecolor,file_ind):\n",
    "    print onestroke\n",
    "    xs = map(getx,onestroke)\n",
    "    ys = map(gety,onestroke)\n",
    "    ySizeOfImage = 500\n",
    "    xSizeOfImage = 500\n",
    "    assert(len(xs) == len(ys))\n",
    "    for i in range(len(xs)):\n",
    "        x, y = xs[:i], ys[:i]\n",
    "        ax.plot(x,y,lw=3, color=onecolor)\n",
    "#         yticks([])\n",
    "#         xticks([])\n",
    "#         xlim(0,xSizeOfImage)\n",
    "#         ylim(0,ySizeOfImage)\n",
    "#         show()\n",
    "#        savefig('/Users/cocosci/Desktop/ray_out/%02d_%03d_%s' %(file_ind, i, onecolor))\n",
    "# this works below \n",
    "        savefig('/Users/cocosci/Desktop/ray_out/image%02d_%03d' %(file_ind, i))\n",
    "#        savefig('/Users/cocosci/Desktop/ray_out/image%02d' %(i)) \n",
    "\n",
    "def flatList(l):\n",
    "    return [item for sublist in l for item in sublist]\n",
    "\n",
    "directoryToImages = \"/Users/cocosci/Desktop/ray_out/\"\n",
    "\n",
    "def makeimage(letter,filename):\n",
    "\n",
    "    strokeColors = [\"blue\",\"red\",\"green\",\"yellow\",\"magenta\",\"black\"]\n",
    "    strokes = letter[u'strokes']\n",
    "    f = figure() # ray\n",
    "    ax = f.gca() # ray\n",
    "    yticks([])\n",
    "    xticks([])\n",
    "    xlim(0,500)\n",
    "    ylim(0,500)\n",
    "    allX = []\n",
    "    allY = []\n",
    "    for i in range(len(strokes)):\n",
    "        color = strokeColors[i]\n",
    "        stroke = strokes[i]\n",
    "        xs = map(getx, stroke)\n",
    "        ys = map(gety, stroke)\n",
    "        allX.append(xs)\n",
    "        allY.append(ys)\n",
    "#         plotstroke(stroke,color)\n",
    "        plotstroke_new(ax, stroke,color,i) # ray\n",
    "#         show()\n",
    "    allX = flatList(allX)\n",
    "    allY = flatList(allY)\n",
    "    jointXY = array([allX, allY]).transpose()\n",
    "    savetxt(directoryToImages + \"data.csv\", jointXY, delimiter=\",\")\n",
    "    savefig(filename)\n",
    "        \n",
    "        \n",
    "makeimage(d[2],'/Users/cocosci/Dropbox (MIT)/LETTERS_JBT/Final expereiment/testek.png')        \n",
    "\n",
    "    \n"
   ]
  },
  {
   "cell_type": "code",
   "execution_count": 17,
   "metadata": {
    "collapsed": false,
    "scrolled": true
   },
   "outputs": [
    {
     "data": {
      "text/plain": [
       "0"
      ]
     },
     "execution_count": 17,
     "metadata": {},
     "output_type": "execute_result"
    }
   ],
   "source": [
    "#Makes movie and gif\n",
    "directoryToImages = \"/Users/cocosci/Desktop/ray_out/\"\n",
    "os.system(\"ffmpeg -framerate 30 -pattern_type glob -i '\" + directoryToImages + \\\n",
    "           \"*.png' -c:v libx264 -pix_fmt yuv420p \" + directoryToImages + \"out.mp4\")\n",
    "\n",
    "os.system(\"convert -delay 1.5 \" + directoryToImages +  \\\n",
    "           \"/*.png \" + directoryToImages + \"tout.gif\")"
   ]
  },
  {
   "cell_type": "code",
   "execution_count": null,
   "metadata": {
    "collapsed": false
   },
   "outputs": [],
   "source": [
    "#onestroke = d[3]['strokes'][0]\n",
    "#map(getx,onestroke)\n",
    "locals()"
   ]
  },
  {
   "cell_type": "code",
   "execution_count": 6,
   "metadata": {
    "collapsed": false
   },
   "outputs": [
    {
     "name": "stdout",
     "output_type": "stream",
     "text": [
      "Variable         Type             Data/Info\n",
      "-------------------------------------------\n",
      "IPython          module           <module 'IPython' from '/<...>es/IPython/__init__.pyc'>\n",
      "d                list             n=8\n",
      "flatList         function         <function flatList at 0x106f87668>\n",
      "fp               TextIOWrapper    <_io.TextIOWrapper name='<...>w.json' encoding='UTF-8'>\n",
      "getdata          function         <function getdata at 0x106f87398>\n",
      "getx             function         <function getx at 0x106f87500>\n",
      "gety             function         <function gety at 0x106f877d0>\n",
      "io               module           <module 'io' from '/Users<...>a2/lib/python2.7/io.pyc'>\n",
      "json             module           <module 'json' from '/Use<...>on2.7/json/__init__.pyc'>\n",
      "makeimage        function         <function makeimage at 0x106f878c0>\n",
      "os               module           <module 'os' from '/Users<...>a2/lib/python2.7/os.pyc'>\n",
      "plotstroke       function         <function plotstroke at 0x106f87848>\n",
      "plotstroke_new   function         <function plotstroke_new at 0x106f87758>\n",
      "t                list             n=28\n"
     ]
    }
   ],
   "source": [
    "whos"
   ]
  },
  {
   "cell_type": "code",
   "execution_count": null,
   "metadata": {
    "collapsed": true
   },
   "outputs": [],
   "source": []
  }
 ],
 "metadata": {
  "kernelspec": {
   "display_name": "Python 2",
   "language": "python",
   "name": "python2"
  },
  "language_info": {
   "codemirror_mode": {
    "name": "ipython",
    "version": 2
   },
   "file_extension": ".py",
   "mimetype": "text/x-python",
   "name": "python",
   "nbconvert_exporter": "python",
   "pygments_lexer": "ipython2",
   "version": "2.7.11"
  }
 },
 "nbformat": 4,
 "nbformat_minor": 0
}
